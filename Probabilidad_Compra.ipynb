{
 "cells": [
  {
   "cell_type": "markdown",
   "metadata": {},
   "source": [
    "## Trabajo Final"
   ]
  },
  {
   "cell_type": "markdown",
   "metadata": {},
   "source": [
    "Descripción completa del problema que se desea resolver:\n",
    "Se analizará una base de datos perteneciente a Google. Son datos reales de fuentes de tráfico, fuentes de contenido y fuentes transaccionales del sitio Google Merchandise Store, la tienda de comercio electrónico que vende productos de la marca Google. \n",
    "\n",
    "Se Desea realizar la prediccion de compra usando el algoritmo de regresion logistica.\n"
   ]
  },
  {
   "cell_type": "markdown",
   "metadata": {},
   "source": [
    "### MODELO  - PREDICCION DE COMPRA"
   ]
  },
  {
   "cell_type": "markdown",
   "metadata": {},
   "source": [
    "## Importando modulos a Python "
   ]
  },
  {
   "cell_type": "code",
   "execution_count": 266,
   "metadata": {},
   "outputs": [],
   "source": [
    "#Modulos a tener en cuenta al momento de realizar el \n",
    "import pandas as pd \n",
    "import numpy as np \n",
    "import matplotlib.pyplot as plt\n",
    "\n",
    "from numpy import array\n",
    "from numpy import argmax\n",
    "from sklearn.preprocessing import LabelEncoder\n",
    "from sklearn.preprocessing import OneHotEncoder\n",
    "\n",
    "\n"
   ]
  },
  {
   "cell_type": "code",
   "execution_count": 267,
   "metadata": {},
   "outputs": [],
   "source": [
    "# definimos la Curva ROC\n",
    "def curva_roc(test_y, test_x):\n",
    "\tfrom sklearn.metrics import roc_auc_score\n",
    "\tfrom sklearn.metrics import roc_curve\n",
    "\tlogit_roc_auc = roc_auc_score(test_y, logisticRegr.predict(test_x))\n",
    "\tfpr, tpr, thresholds = roc_curve(test_y, logisticRegr.predict_proba(test_x)[:,1])\n",
    "\tplt.figure()\n",
    "\tplt.plot(fpr, tpr, label='Regresión Logística (área = %0.2f)' % logit_roc_auc)\n",
    "\tplt.plot([0, 1], [0, 1],'r--')\n",
    "\tplt.xlim([0.0, 1.0])\n",
    "\tplt.ylim([0.0, 1.05])\n",
    "\tplt.xlabel('Tasa de Falsos Positivos')\n",
    "\tplt.ylabel('Tasa de Verdaderos Positivos')\n",
    "\tplt.title('Características del modelo (Curva ROC)')\n",
    "\tplt.legend(loc=\"lower right\")\n",
    "\tplt.savefig('Log_ROC')\n",
    "\tplt.show()\n",
    "    \n",
    "    \n",
    "def matriz_confusion(confusion_matrix, version_matriz):\n",
    "    confusion_matrix_df = pd.DataFrame(confusion_matrix, ('NO', 'SI'), ('NO', 'SI'))\n",
    "    heatmap = sns.heatmap(confusion_matrix_df, annot=True, annot_kws={\"size\": 15}, fmt=\"d\")\n",
    "    heatmap.yaxis.set_ticklabels(heatmap.yaxis.get_ticklabels(), rotation=0, ha='right', fontsize = 10)\n",
    "    heatmap.xaxis.set_ticklabels(heatmap.xaxis.get_ticklabels(), rotation=45, ha='right', fontsize = 10)\n",
    "    plt.ylabel('Valores Reales', fontsize = 10)\n",
    "    plt.xlabel('Prediccion', fontsize = 10)"
   ]
  },
  {
   "cell_type": "markdown",
   "metadata": {},
   "source": [
    "### Limpieza y transformacion de datos, analisis de variables que no tienen mayor significancia en el modelo "
   ]
  },
  {
   "cell_type": "code",
   "execution_count": 268,
   "metadata": {},
   "outputs": [
    {
     "data": {
      "text/html": [
       "<div>\n",
       "<style scoped>\n",
       "    .dataframe tbody tr th:only-of-type {\n",
       "        vertical-align: middle;\n",
       "    }\n",
       "\n",
       "    .dataframe tbody tr th {\n",
       "        vertical-align: top;\n",
       "    }\n",
       "\n",
       "    .dataframe thead th {\n",
       "        text-align: right;\n",
       "    }\n",
       "</style>\n",
       "<table border=\"1\" class=\"dataframe\">\n",
       "  <thead>\n",
       "    <tr style=\"text-align: right;\">\n",
       "      <th></th>\n",
       "      <th>count</th>\n",
       "      <th>unique</th>\n",
       "      <th>top</th>\n",
       "      <th>freq</th>\n",
       "    </tr>\n",
       "  </thead>\n",
       "  <tbody>\n",
       "    <tr>\n",
       "      <th>visitNumber</th>\n",
       "      <td>71812</td>\n",
       "      <td>179</td>\n",
       "      <td>1,0</td>\n",
       "      <td>54681</td>\n",
       "    </tr>\n",
       "    <tr>\n",
       "      <th>visitStartTime</th>\n",
       "      <td>71812</td>\n",
       "      <td>70578</td>\n",
       "      <td>1500856602,0</td>\n",
       "      <td>5</td>\n",
       "    </tr>\n",
       "    <tr>\n",
       "      <th>fullVisitorId</th>\n",
       "      <td>71812</td>\n",
       "      <td>58569</td>\n",
       "      <td>232377434237235000,0</td>\n",
       "      <td>46</td>\n",
       "    </tr>\n",
       "    <tr>\n",
       "      <th>channelGrouping</th>\n",
       "      <td>71812</td>\n",
       "      <td>8</td>\n",
       "      <td>Organic Search</td>\n",
       "      <td>37655</td>\n",
       "    </tr>\n",
       "    <tr>\n",
       "      <th>visits</th>\n",
       "      <td>71812</td>\n",
       "      <td>1</td>\n",
       "      <td>1,0</td>\n",
       "      <td>71812</td>\n",
       "    </tr>\n",
       "    <tr>\n",
       "      <th>pageviews</th>\n",
       "      <td>71812</td>\n",
       "      <td>105</td>\n",
       "      <td>1,0</td>\n",
       "      <td>36577</td>\n",
       "    </tr>\n",
       "    <tr>\n",
       "      <th>timeOnSite</th>\n",
       "      <td>71812</td>\n",
       "      <td>2378</td>\n",
       "      <td>0,0</td>\n",
       "      <td>36528</td>\n",
       "    </tr>\n",
       "    <tr>\n",
       "      <th>transactions</th>\n",
       "      <td>71812</td>\n",
       "      <td>5</td>\n",
       "      <td>0,0</td>\n",
       "      <td>70781</td>\n",
       "    </tr>\n",
       "    <tr>\n",
       "      <th>transactionRevenue</th>\n",
       "      <td>71812</td>\n",
       "      <td>779</td>\n",
       "      <td>0,0</td>\n",
       "      <td>70781</td>\n",
       "    </tr>\n",
       "    <tr>\n",
       "      <th>transactionRev</th>\n",
       "      <td>71812</td>\n",
       "      <td>779</td>\n",
       "      <td>0,0</td>\n",
       "      <td>70781</td>\n",
       "    </tr>\n",
       "    <tr>\n",
       "      <th>newVisits</th>\n",
       "      <td>71812</td>\n",
       "      <td>2</td>\n",
       "      <td>1,0</td>\n",
       "      <td>54681</td>\n",
       "    </tr>\n",
       "    <tr>\n",
       "      <th>totalTransactionRevenue</th>\n",
       "      <td>71812</td>\n",
       "      <td>883</td>\n",
       "      <td>0,0</td>\n",
       "      <td>70781</td>\n",
       "    </tr>\n",
       "    <tr>\n",
       "      <th>BuyFlag</th>\n",
       "      <td>71812</td>\n",
       "      <td>2</td>\n",
       "      <td>0,0</td>\n",
       "      <td>70781</td>\n",
       "    </tr>\n",
       "    <tr>\n",
       "      <th>sessionQualityDim</th>\n",
       "      <td>71812</td>\n",
       "      <td>100</td>\n",
       "      <td>1,0</td>\n",
       "      <td>54796</td>\n",
       "    </tr>\n",
       "    <tr>\n",
       "      <th>browser</th>\n",
       "      <td>71812</td>\n",
       "      <td>29</td>\n",
       "      <td>Chrome</td>\n",
       "      <td>49968</td>\n",
       "    </tr>\n",
       "    <tr>\n",
       "      <th>operatingSystem</th>\n",
       "      <td>71812</td>\n",
       "      <td>13</td>\n",
       "      <td>Windows</td>\n",
       "      <td>24759</td>\n",
       "    </tr>\n",
       "    <tr>\n",
       "      <th>isMobile</th>\n",
       "      <td>71812</td>\n",
       "      <td>2</td>\n",
       "      <td>False</td>\n",
       "      <td>45599</td>\n",
       "    </tr>\n",
       "    <tr>\n",
       "      <th>continent</th>\n",
       "      <td>71812</td>\n",
       "      <td>6</td>\n",
       "      <td>Americas</td>\n",
       "      <td>38887</td>\n",
       "    </tr>\n",
       "    <tr>\n",
       "      <th>subContinent</th>\n",
       "      <td>71812</td>\n",
       "      <td>23</td>\n",
       "      <td>Northern America</td>\n",
       "      <td>35093</td>\n",
       "    </tr>\n",
       "    <tr>\n",
       "      <th>country</th>\n",
       "      <td>71812</td>\n",
       "      <td>190</td>\n",
       "      <td>United States</td>\n",
       "      <td>32677</td>\n",
       "    </tr>\n",
       "    <tr>\n",
       "      <th>networkDomain</th>\n",
       "      <td>71812</td>\n",
       "      <td>4988</td>\n",
       "      <td>(not set)</td>\n",
       "      <td>24005</td>\n",
       "    </tr>\n",
       "    <tr>\n",
       "      <th>action_type</th>\n",
       "      <td>71812</td>\n",
       "      <td>6</td>\n",
       "      <td>0</td>\n",
       "      <td>71524</td>\n",
       "    </tr>\n",
       "  </tbody>\n",
       "</table>\n",
       "</div>"
      ],
      "text/plain": [
       "                         count unique                   top   freq\n",
       "visitNumber              71812    179                   1,0  54681\n",
       "visitStartTime           71812  70578          1500856602,0      5\n",
       "fullVisitorId            71812  58569  232377434237235000,0     46\n",
       "channelGrouping          71812      8        Organic Search  37655\n",
       "visits                   71812      1                   1,0  71812\n",
       "pageviews                71812    105                   1,0  36577\n",
       "timeOnSite               71812   2378                   0,0  36528\n",
       "transactions             71812      5                   0,0  70781\n",
       "transactionRevenue       71812    779                   0,0  70781\n",
       "transactionRev           71812    779                   0,0  70781\n",
       "newVisits                71812      2                   1,0  54681\n",
       "totalTransactionRevenue  71812    883                   0,0  70781\n",
       "BuyFlag                  71812      2                   0,0  70781\n",
       "sessionQualityDim        71812    100                   1,0  54796\n",
       "browser                  71812     29                Chrome  49968\n",
       "operatingSystem          71812     13               Windows  24759\n",
       "isMobile                 71812      2                 False  45599\n",
       "continent                71812      6              Americas  38887\n",
       "subContinent             71812     23      Northern America  35093\n",
       "country                  71812    190         United States  32677\n",
       "networkDomain            71812   4988             (not set)  24005\n",
       "action_type              71812      6                     0  71524"
      ]
     },
     "execution_count": 268,
     "metadata": {},
     "output_type": "execute_result"
    }
   ],
   "source": [
    "#carga y analisis estadistico para cada variable \n",
    "\n",
    "df = pd.read_csv('/home/mvp/iris/datos.csv',sep = ';')\n",
    "\n",
    "#Analisis con todas las categorias \n",
    "df.pop('att1')\n",
    "df.pop('date')\n",
    "df.index=df['fullVisitorId']\n",
    "df.pop('visitId')\n",
    "df.astype('object').describe().transpose()\n"
   ]
  },
  {
   "cell_type": "code",
   "execution_count": 269,
   "metadata": {},
   "outputs": [],
   "source": [
    "#transformacion de variables categoricas \n",
    "label_encoder = LabelEncoder()\n",
    "integer_encoded = label_encoder.fit_transform(df['channelGrouping'])\n",
    "df['channelGrouping'] = integer_encoded\n",
    "\n",
    "label_encoder = LabelEncoder()\n",
    "integer_encoded = label_encoder.fit_transform(df['browser'])\n",
    "df['browser'] = integer_encoded\n",
    "\n",
    "label_encoder = LabelEncoder()\n",
    "integer_encoded = label_encoder.fit_transform(df['operatingSystem'])\n",
    "df['operatingSystem'] = integer_encoded\n",
    "\n",
    "label_encoder = LabelEncoder()\n",
    "integer_encoded = label_encoder.fit_transform(df['isMobile'])\n",
    "df['isMobile'] = integer_encoded\n",
    "\n",
    "label_encoder = LabelEncoder()\n",
    "integer_encoded = label_encoder.fit_transform(df['continent'])\n",
    "df['continent'] = integer_encoded\n",
    "\n",
    "label_encoder = LabelEncoder()\n",
    "integer_encoded = label_encoder.fit_transform(df['subContinent'])\n",
    "df['subContinent'] = integer_encoded\n",
    "\n",
    "label_encoder = LabelEncoder()\n",
    "integer_encoded = label_encoder.fit_transform(df['country'])\n",
    "df['country'] = integer_encoded\n",
    "\n",
    "label_encoder = LabelEncoder()\n",
    "integer_encoded = label_encoder.fit_transform(df['networkDomain'])\n",
    "df['networkDomain'] = integer_encoded"
   ]
  },
  {
   "cell_type": "code",
   "execution_count": 270,
   "metadata": {},
   "outputs": [
    {
     "name": "stdout",
     "output_type": "stream",
     "text": [
      "transormacion correcta (71812, 16)\n"
     ]
    }
   ],
   "source": [
    "#cambio de variables de formato texto a numerico  \n",
    "df[\"visits\"]= pd.to_numeric(df[\"visits\"].str.replace(\",\", \".\" ))\n",
    "df[\"pageviews\"]= pd.to_numeric(df[\"pageviews\"].str.replace(\",\", \".\" ))\n",
    "df[\"timeOnSite\"]= pd.to_numeric(df[\"timeOnSite\"].str.replace(\",\", \".\" ))\n",
    "df[\"transactions\"]= pd.to_numeric(df[\"transactions\"].str.replace(\",\", \".\" ))\n",
    "df[\"transactionRev\"]= pd.to_numeric(df[\"transactionRev\"].str.replace(\",\", \".\" ))\n",
    "df[\"totalTransactionRevenue\"]= pd.to_numeric(df[\"totalTransactionRevenue\"].str.replace(\",\", \".\" ))\n",
    "df[\"BuyFlag\"]= pd.to_numeric(df[\"BuyFlag\"].str.replace(\",\", \".\" ))\n",
    "df[\"sessionQualityDim\"]= pd.to_numeric(df[\"sessionQualityDim\"].str.replace(\",\", \".\" ))\n",
    "df[\"transactionRevenue\"]= pd.to_numeric(df[\"transactionRevenue\"].str.replace(\",\", \".\" ))\n",
    "df[\"visitNumber\"]= pd.to_numeric(df[\"visitNumber\"].str.replace(\",\", \".\" ))\n",
    "df[\"newVisits\"]= pd.to_numeric(df[\"newVisits\"].str.replace(\",\", \".\" ))\n",
    "df[\"visitStartTime\"]= pd.to_numeric(df[\"visitStartTime\"].str.replace(\",\", \".\" ))\n",
    "df[\"fullVisitorId\"]= pd.to_numeric(df[\"fullVisitorId\"].str.replace(\",\", \".\" ))\n",
    "\n",
    "#Eliminamos las variables de clase y las de id \n",
    "df.pop(\"fullVisitorId\")\n",
    "df.pop(\"transactionRevenue\")\n",
    "df.pop(\"transactionRev\")\n",
    "df.pop(\"totalTransactionRevenue\")\n",
    "df.pop(\"visitStartTime\")\n",
    "df.pop(\"transactions\")\n",
    "\n",
    "\n",
    "print(\"transormacion correcta\",df.shape)\n"
   ]
  },
  {
   "cell_type": "code",
   "execution_count": 271,
   "metadata": {},
   "outputs": [
    {
     "name": "stdout",
     "output_type": "stream",
     "text": [
      "data nueva 0 : (7079, 16)\n",
      "data nueva 1 : (1031, 16)\n",
      "\n",
      "total de valores (8110, 16)\n"
     ]
    }
   ],
   "source": [
    "#Balancemos el datra set  \n",
    "df_t=df[df.BuyFlag == 0]\n",
    "df_1=df[df.BuyFlag == 1]\n",
    "\n",
    "# realizamos una muestra para todos los casos  en que las compras fueran 0\n",
    "from sklearn.model_selection import train_test_split\n",
    "train, test = train_test_split(df_t, test_size = 0.10)\n",
    "\n",
    "data_0= test\n",
    "print(\"data nueva 0 :\",data_0.shape)\n",
    "print(\"data nueva 1 :\",df_1.shape)\n",
    "\n",
    "print(\"\")\n",
    "\n",
    "df= pd.concat([data_0, df_1])\n",
    "print(\"total de valores\",df.shape)\n",
    "\n",
    "\n",
    "\n"
   ]
  },
  {
   "cell_type": "markdown",
   "metadata": {},
   "source": [
    "### VISUALIZACION DE DATOS "
   ]
  },
  {
   "cell_type": "code",
   "execution_count": 273,
   "metadata": {},
   "outputs": [
    {
     "data": {
      "text/plain": [
       "Text(0.5,1,'Proporcion de CLientes TRAINING')"
      ]
     },
     "execution_count": 273,
     "metadata": {},
     "output_type": "execute_result"
    },
    {
     "data": {
      "image/png": "[encoded data removed]",
      "text/plain": [
       "<Figure size 576x432 with 1 Axes>"
      ]
     },
     "metadata": {},
     "output_type": "display_data"
    }
   ],
   "source": [
    "#Analis de los casos para la variable en estidio  , BuyFlag = 1 compro, 0 no compro\n",
    "ax = df.BuyFlag.value_counts().plot.pie(startangle=35, autopct='%.1f %%', figsize=(8, 6),textprops=dict(color=\"w\"))\n",
    "ax.set_title(\"Proporcion de CLientes TRAINING\", fontsize=18, weight=\"bold\")\n"
   ]
  },
  {
   "cell_type": "code",
   "execution_count": 274,
   "metadata": {},
   "outputs": [
    {
     "name": "stdout",
     "output_type": "stream",
     "text": [
      "Train : (6082, 16) | Test : (2028, 16)\n"
     ]
    }
   ],
   "source": [
    "# seleccion de la muestra  para TRAIN y TEST\n",
    "\n",
    "from sklearn.model_selection import train_test_split\n",
    "train, test = train_test_split(df, test_size = 0.25)\n",
    "print(\"Train :\",train.shape,\"| Test :\",test.shape)"
   ]
  },
  {
   "cell_type": "code",
   "execution_count": 275,
   "metadata": {},
   "outputs": [
    {
     "name": "stdout",
     "output_type": "stream",
     "text": [
      "----------------Transformacion Correcta --------------\n"
     ]
    }
   ],
   "source": [
    "#seleccion de variable objetivo para train y test\n",
    "train_y = train[\"BuyFlag\"]\n",
    "test_y = test['BuyFlag']\n",
    "\n",
    "#eliminamos la variable objetivo para train y test\n",
    "train_x = train\n",
    "train_x.pop('BuyFlag')\n",
    "test_x = test\n",
    "test_x.pop('BuyFlag')\n",
    "print(\"----------------Transformacion Correcta --------------\")"
   ]
  },
  {
   "cell_type": "code",
   "execution_count": 276,
   "metadata": {},
   "outputs": [],
   "source": [
    "#seleccion del modelo de regresion logistica, matriz de confusion\n",
    "from sklearn.linear_model import LogisticRegression\n",
    "from sklearn.metrics import confusion_matrix, classification_report\n"
   ]
  },
  {
   "cell_type": "markdown",
   "metadata": {},
   "source": [
    "### APLICAMOS EL MODELO DE REGRESION LOGISTICA "
   ]
  },
  {
   "cell_type": "code",
   "execution_count": 278,
   "metadata": {},
   "outputs": [
    {
     "name": "stderr",
     "output_type": "stream",
     "text": [
      "/anaconda/lib/python3.7/site-packages/sklearn/linear_model/logistic.py:433: FutureWarning: Default solver will be changed to 'lbfgs' in 0.22. Specify a solver to silence this warning.\n",
      "  FutureWarning)\n"
     ]
    },
    {
     "data": {
      "text/plain": [
       "LogisticRegression(C=1.0, class_weight=None, dual=False, fit_intercept=True,\n",
       "          intercept_scaling=1, max_iter=100, multi_class='warn',\n",
       "          n_jobs=None, penalty='l2', random_state=None, solver='warn',\n",
       "          tol=0.0001, verbose=0, warm_start=False)"
      ]
     },
     "execution_count": 278,
     "metadata": {},
     "output_type": "execute_result"
    }
   ],
   "source": [
    "logisticRegr = LogisticRegression()\n",
    "logisticRegr.fit(X=train_x, y=train_y)"
   ]
  },
  {
   "cell_type": "code",
   "execution_count": 279,
   "metadata": {},
   "outputs": [
    {
     "data": {
      "image/png": "[encoded data removed]",
      "text/plain": [
       "<Figure size 432x288 with 1 Axes>"
      ]
     },
     "metadata": {
      "needs_background": "light"
     },
     "output_type": "display_data"
    }
   ],
   "source": [
    "# Grafico para evaluar el modelo\n",
    "import matplotlib.pyplot as plt\n",
    "# Evaluacion del modelo (ROC)\n",
    "curva_roc(train_y, train_x)"
   ]
  },
  {
   "cell_type": "code",
   "execution_count": 280,
   "metadata": {},
   "outputs": [],
   "source": [
    "#Aplicamos el modelo de regresion logistica a los datos del testeo\n",
    "test_y_pred = logisticRegr.predict(test_x)\n",
    "test_y_pobabilidad = logisticRegr.predict_proba(test_x)"
   ]
  },
  {
   "cell_type": "code",
   "execution_count": 281,
   "metadata": {},
   "outputs": [
    {
     "data": {
      "image/png": "[encoded data removed]",
      "text/plain": [
       "<Figure size 432x288 with 1 Axes>"
      ]
     },
     "metadata": {
      "needs_background": "light"
     },
     "output_type": "display_data"
    }
   ],
   "source": [
    "#evaluacion del modelo \n",
    "curva_roc(test_y, test_x)"
   ]
  },
  {
   "cell_type": "code",
   "execution_count": 282,
   "metadata": {},
   "outputs": [
    {
     "data": {
      "image/png": "[encoded data removed]",
      "text/plain": [
       "<Figure size 432x288 with 2 Axes>"
      ]
     },
     "metadata": {
      "needs_background": "light"
     },
     "output_type": "display_data"
    }
   ],
   "source": [
    "#Matriz de confusion para el modelo predecido\n",
    "import seaborn as sns\n",
    "import numpy as np\n",
    "\n",
    "confusion_matrix_train = confusion_matrix(test_y, test_y_pred)\n",
    "matriz_confusion(confusion_matrix_train, 'matriz_confusion')"
   ]
  }
 ],
 "metadata": {
  "kernelspec": {
   "display_name": "Python 3",
   "language": "python",
   "name": "python3"
  },
  "language_info": {
   "codemirror_mode": {
    "name": "ipython",
    "version": 3
   },
   "file_extension": ".py",
   "mimetype": "text/x-python",
   "name": "python",
   "nbconvert_exporter": "python",
   "pygments_lexer": "ipython3",
   "version": "3.7.4"
  }
 },
 "nbformat": 4,
 "nbformat_minor": 2
}
